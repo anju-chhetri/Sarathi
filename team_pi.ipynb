{
  "cells": [
    {
      "cell_type": "code",
      "execution_count": null,
      "metadata": {
        "id": "wP0AxcKxfQVT"
      },
      "outputs": [],
      "source": [
        "import os\n",
        "import random\n",
        "root = \"/content/drive/MyDrive/dataset\"\n",
        "gen = os.walk(root)\n",
        "list_of_folders = next(gen)[1]\n",
        "list_of_folders.sort()\n",
        "\n",
        "train = []\n",
        "valid = []\n",
        "\n",
        "for folder in list_of_folders:\n",
        "  r1 = os.path.join(root, folder)\n",
        "  g = os.walk(r1)\n",
        "  \n",
        "  for subfolder in next(g)[1]:\n",
        "    r2 = (os.path.join(r1, subfolder))\n",
        "\n",
        "    files = [f for f in os.listdir(r2) if os.path.isfile(os.path.join(r2, f))]\n",
        "\n",
        "    for file_name in files:\n",
        "      if random.uniform(0, 1) < 0.8:\n",
        "        train.append([os.path.join(r2, file_name), 1 if subfolder == \"fall\" else 0])\n",
        "      else:\n",
        "        valid.append([os.path.join(r2, file_name), 1 if subfolder == \"fall\" else 0])\n",
        "\n",
        "# 80 - 20 split to traning & validation data"
      ]
    },
    {
      "cell_type": "code",
      "execution_count": null,
      "metadata": {
        "id": "H7PThPcqmVy6",
        "colab": {
          "base_uri": "https://localhost:8080/"
        },
        "outputId": "88b16175-5291-4460-b5f0-675969db2040"
      },
      "outputs": [
        {
          "output_type": "stream",
          "name": "stdout",
          "text": [
            "                                                 path  fall\n",
            "0   /content/drive/MyDrive/dataset/Anju/notFall/da...     0\n",
            "1   /content/drive/MyDrive/dataset/Anju/notFall/da...     0\n",
            "2   /content/drive/MyDrive/dataset/Anju/notFall/da...     0\n",
            "3   /content/drive/MyDrive/dataset/Anju/notFall/da...     0\n",
            "4   /content/drive/MyDrive/dataset/Anju/notFall/da...     0\n",
            "..                                                ...   ...\n",
            "80  /content/drive/MyDrive/dataset/dhirendraBhai/n...     0\n",
            "81  /content/drive/MyDrive/dataset/dhirendraBhai/n...     0\n",
            "82  /content/drive/MyDrive/dataset/dhirendraBhai/n...     0\n",
            "83  /content/drive/MyDrive/dataset/dhirendraBhai/n...     0\n",
            "84  /content/drive/MyDrive/dataset/dhirendraBhai/n...     0\n",
            "\n",
            "[85 rows x 2 columns]\n"
          ]
        }
      ],
      "source": [
        "import pandas as pd\n",
        "\n",
        "train_df = pd.DataFrame(train, columns=['path', 'fall'])\n",
        "valid_df = pd.DataFrame(valid, columns=['path', 'fall'])\n",
        "print(train_df)"
      ]
    },
    {
      "cell_type": "code",
      "execution_count": null,
      "metadata": {
        "id": "wbvazqKtnMHE",
        "colab": {
          "base_uri": "https://localhost:8080/"
        },
        "outputId": "0b09720e-64f6-41c0-cd11-bc038fdc8a32"
      },
      "outputs": [
        {
          "output_type": "execute_result",
          "data": {
            "text/plain": [
              "1    43\n",
              "0    42\n",
              "Name: fall, dtype: int64"
            ]
          },
          "metadata": {},
          "execution_count": 3
        }
      ],
      "source": [
        "train_df.fall.value_counts()"
      ]
    },
    {
      "cell_type": "code",
      "source": [
        "valid_df.fall.value_counts()"
      ],
      "metadata": {
        "colab": {
          "base_uri": "https://localhost:8080/"
        },
        "id": "gTGj6ffBxRv-",
        "outputId": "a86c671d-f01a-4202-b799-478817989503"
      },
      "execution_count": null,
      "outputs": [
        {
          "output_type": "execute_result",
          "data": {
            "text/plain": [
              "0    17\n",
              "1    16\n",
              "Name: fall, dtype: int64"
            ]
          },
          "metadata": {},
          "execution_count": 4
        }
      ]
    },
    {
      "cell_type": "code",
      "source": [
        "shapes = []\n",
        "import torch\n",
        "\n",
        "for i in range(len(train_df)):\n",
        "  csv_path = train_df.iloc[i, 0]\n",
        "  mat = pd.read_csv(csv_path)\n",
        "  mat = [list(mat[x]) for x in ['ax', 'ay', 'az', 'gx', 'gy', 'gz']]\n",
        "  mat = torch.tensor(mat)\n",
        "  if mat.shape[1] < 10:\n",
        "    print(csv_path)\n",
        "  shapes.append(mat.shape[1])\n",
        "\n",
        "print(shapes)\n",
        "mat_min = min(shapes) # csv to tensor"
      ],
      "metadata": {
        "colab": {
          "base_uri": "https://localhost:8080/"
        },
        "id": "GCdmH0GlxVlD",
        "outputId": "343c34d5-39aa-4cae-e1cf-82b90ccb1486"
      },
      "execution_count": null,
      "outputs": [
        {
          "output_type": "stream",
          "name": "stdout",
          "text": [
            "[121, 124, 121, 120, 119, 122, 131, 108, 131, 128, 129, 134, 127, 132, 138, 134, 132, 138, 144, 136, 133, 137, 134, 136, 136, 135, 135, 128, 130, 129, 141, 138, 132, 143, 92, 137, 141, 142, 138, 137, 123, 94, 120, 128, 119, 130, 126, 128, 128, 133, 88, 130, 132, 134, 142, 134, 134, 121, 129, 133, 132, 134, 135, 132, 135, 133, 134, 133, 136, 127, 127, 129, 128, 130, 129, 131, 132, 136, 137, 134, 138, 139, 136, 137, 136]\n"
          ]
        }
      ]
    },
    {
      "cell_type": "code",
      "source": [
        "import os\n",
        "import torch\n",
        "import pandas as pd\n",
        "from torch.utils.data import Dataset, IterableDataset\n",
        "\n",
        "def mat_to_tensor(mat_path):\n",
        "  mat = pd.read_csv(mat_path)\n",
        "  mat = mat.dropna()\n",
        "  mat = [list(mat[x]) for x in ['ax', 'ay', 'az', 'gx', 'gy', 'gz']]\n",
        "  mat = torch.tensor(mat)\n",
        "  return mat\n",
        "\n",
        "class IMUSet(Dataset):\n",
        "    def __init__(self, data_df):\n",
        "        self.data_df = data_df\n",
        "\n",
        "    def __len__(self):\n",
        "        return len(self.data_df)\n",
        "\n",
        "    def __getitem__(self, idx):\n",
        "        mat_path = self.data_df.iloc[idx, 0]\n",
        "        t = mat_to_tensor(mat_path)\n",
        "        label = self.data_df.iloc[idx, 1]\n",
        "        return t, label"
      ],
      "metadata": {
        "id": "hGz5Eltf2Q5w"
      },
      "execution_count": null,
      "outputs": []
    },
    {
      "cell_type": "code",
      "source": [
        "from torch.utils.data import DataLoader\n",
        "\n",
        "imuset = IMUSet(train_df) # make dataset\n",
        "\n",
        "train_dataloader = DataLoader(imuset, shuffle=True) "
      ],
      "metadata": {
        "id": "D8UW-U5k298F"
      },
      "execution_count": null,
      "outputs": []
    },
    {
      "cell_type": "code",
      "source": [
        "valid_dataset = IMUSet(valid_df)\n",
        "valid_dataloader = DataLoader(valid_dataset, shuffle=True)\n",
        "\n",
        "valid_features, valid_labels = next(iter(valid_dataloader))\n",
        "\n",
        "valid_features.shape, valid_labels.shape"
      ],
      "metadata": {
        "colab": {
          "base_uri": "https://localhost:8080/"
        },
        "id": "JoIVWRr75hWS",
        "outputId": "55b7f899-d285-46d8-cde8-099ade7d76f1"
      },
      "execution_count": null,
      "outputs": [
        {
          "output_type": "execute_result",
          "data": {
            "text/plain": [
              "(torch.Size([1, 6, 121]), torch.Size([1]))"
            ]
          },
          "metadata": {},
          "execution_count": 8
        }
      ]
    },
    {
      "cell_type": "markdown",
      "source": [
        "**LSTM**"
      ],
      "metadata": {
        "id": "AQP6qfIsEFF8"
      }
    },
    {
      "cell_type": "code",
      "source": [
        "from torch import nn\n",
        "import torch.nn.functional as F\n",
        "\n",
        "class FallDetector(nn.Module):\n",
        "    def __init__(self):\n",
        "        super(FallDetector, self).__init__()\n",
        "        self.lstm = nn.LSTM(input_size=6, hidden_size=5, num_layers=1)\n",
        "        self.hidden2tag = nn.Linear(5, 1)\n",
        "\n",
        "    def forward(self, seq):\n",
        "        output, (h_n, c_n) = self.lstm(seq.view(len(seq), 1, -1))\n",
        "        tag_space = self.hidden2tag(c_n.view(1, -1))\n",
        "        # print(tag_space.data)\n",
        "        tag_scores = torch.sigmoid(tag_space)\n",
        "        return tag_scores.view(-1)"
      ],
      "metadata": {
        "id": "67owPWHi5vr7"
      },
      "execution_count": null,
      "outputs": []
    },
    {
      "cell_type": "code",
      "source": [
        "import torch.optim as optim\n",
        "\n",
        "model = FallDetector()\n",
        "loss_function = nn.BCELoss() \n",
        "optimizer = optim.Adam(model.parameters())"
      ],
      "metadata": {
        "id": "l2WJyGd47PVH"
      },
      "execution_count": null,
      "outputs": []
    },
    {
      "cell_type": "code",
      "source": [
        "import numpy as np\n",
        "\n",
        "from sklearn.metrics import confusion_matrix, accuracy_score, recall_score\n",
        "\n",
        "def get_statistics(y_true, y_pred):\n",
        "    y_pred = np.concatenate(tuple(y_pred)) > 0.5\n",
        "    y_true = np.concatenate(tuple([[t for t in y] for y in y_true])).reshape(y_pred.shape)\n",
        "\n",
        "    print(\"Accuracy: \", accuracy_score(y_true, y_pred))\n",
        "    print(\"Recall: \", recall_score(y_true, y_pred))\n",
        "    print(len(y_true))\n",
        "\n",
        "    print(\"Confusion Matrix\")\n",
        "    print(confusion_matrix(y_true, y_pred))"
      ],
      "metadata": {
        "id": "TGJVaT0L8CRw"
      },
      "execution_count": null,
      "outputs": []
    },
    {
      "cell_type": "code",
      "source": [
        "for epoch in range(50): \n",
        "    labels = []\n",
        "    preds = []\n",
        "    loss = []\n",
        "\n",
        "    i = 0\n",
        "    for seq, label in train_dataloader:\n",
        "        model.zero_grad()\n",
        "\n",
        "        seq = seq.reshape((-1, 6))\n",
        "        tag_scores = model(seq.to(torch.float))\n",
        "        preds.append(tag_scores.data)\n",
        "        labels.append(label.to(torch.float).data)\n",
        "\n",
        "        loss = loss_function(tag_scores, label.to(torch.float))\n",
        "        loss.backward()\n",
        "        optimizer.step()\n",
        "\n",
        "        i += 1\n",
        "\n",
        "    print(\"Epoch Done\")\n",
        "    get_statistics(labels, preds)\n",
        "\n",
        "    # tag_scores[tag_scores > 0.4] = 1\n"
      ],
      "metadata": {
        "colab": {
          "base_uri": "https://localhost:8080/"
        },
        "id": "NICfurnn8Evo",
        "outputId": "e4859be1-e7b4-4b0f-e4b3-87238257ad16"
      },
      "execution_count": null,
      "outputs": [
        {
          "output_type": "stream",
          "name": "stdout",
          "text": [
            "Epoch Done\n",
            "Accuracy:  0.6823529411764706\n",
            "Recall:  0.7441860465116279\n",
            "85\n",
            "Confusion Matrix\n",
            "[[26 16]\n",
            " [11 32]]\n",
            "Epoch Done\n",
            "Accuracy:  0.6705882352941176\n",
            "Recall:  0.6976744186046512\n",
            "85\n",
            "Confusion Matrix\n",
            "[[27 15]\n",
            " [13 30]]\n",
            "Epoch Done\n",
            "Accuracy:  0.7294117647058823\n",
            "Recall:  0.813953488372093\n",
            "85\n",
            "Confusion Matrix\n",
            "[[27 15]\n",
            " [ 8 35]]\n",
            "Epoch Done\n",
            "Accuracy:  0.6823529411764706\n",
            "Recall:  0.7209302325581395\n",
            "85\n",
            "Confusion Matrix\n",
            "[[27 15]\n",
            " [12 31]]\n",
            "Epoch Done\n",
            "Accuracy:  0.6588235294117647\n",
            "Recall:  0.7441860465116279\n",
            "85\n",
            "Confusion Matrix\n",
            "[[24 18]\n",
            " [11 32]]\n",
            "Epoch Done\n",
            "Accuracy:  0.7294117647058823\n",
            "Recall:  0.8837209302325582\n",
            "85\n",
            "Confusion Matrix\n",
            "[[24 18]\n",
            " [ 5 38]]\n",
            "Epoch Done\n",
            "Accuracy:  0.7058823529411765\n",
            "Recall:  0.6511627906976745\n",
            "85\n",
            "Confusion Matrix\n",
            "[[32 10]\n",
            " [15 28]]\n",
            "Epoch Done\n",
            "Accuracy:  0.6823529411764706\n",
            "Recall:  0.7209302325581395\n",
            "85\n",
            "Confusion Matrix\n",
            "[[27 15]\n",
            " [12 31]]\n",
            "Epoch Done\n",
            "Accuracy:  0.7411764705882353\n",
            "Recall:  0.7674418604651163\n",
            "85\n",
            "Confusion Matrix\n",
            "[[30 12]\n",
            " [10 33]]\n",
            "Epoch Done\n",
            "Accuracy:  0.7764705882352941\n",
            "Recall:  0.8604651162790697\n",
            "85\n",
            "Confusion Matrix\n",
            "[[29 13]\n",
            " [ 6 37]]\n",
            "Epoch Done\n",
            "Accuracy:  0.788235294117647\n",
            "Recall:  0.8604651162790697\n",
            "85\n",
            "Confusion Matrix\n",
            "[[30 12]\n",
            " [ 6 37]]\n",
            "Epoch Done\n",
            "Accuracy:  0.8235294117647058\n",
            "Recall:  0.9069767441860465\n",
            "85\n",
            "Confusion Matrix\n",
            "[[31 11]\n",
            " [ 4 39]]\n",
            "Epoch Done\n",
            "Accuracy:  0.8352941176470589\n",
            "Recall:  0.9302325581395349\n",
            "85\n",
            "Confusion Matrix\n",
            "[[31 11]\n",
            " [ 3 40]]\n",
            "Epoch Done\n",
            "Accuracy:  0.8352941176470589\n",
            "Recall:  0.9069767441860465\n",
            "85\n",
            "Confusion Matrix\n",
            "[[32 10]\n",
            " [ 4 39]]\n",
            "Epoch Done\n",
            "Accuracy:  0.8352941176470589\n",
            "Recall:  0.9069767441860465\n",
            "85\n",
            "Confusion Matrix\n",
            "[[32 10]\n",
            " [ 4 39]]\n",
            "Epoch Done\n",
            "Accuracy:  0.8470588235294118\n",
            "Recall:  0.9302325581395349\n",
            "85\n",
            "Confusion Matrix\n",
            "[[32 10]\n",
            " [ 3 40]]\n",
            "Epoch Done\n",
            "Accuracy:  0.8470588235294118\n",
            "Recall:  0.9302325581395349\n",
            "85\n",
            "Confusion Matrix\n",
            "[[32 10]\n",
            " [ 3 40]]\n",
            "Epoch Done\n",
            "Accuracy:  0.8470588235294118\n",
            "Recall:  0.9302325581395349\n",
            "85\n",
            "Confusion Matrix\n",
            "[[32 10]\n",
            " [ 3 40]]\n",
            "Epoch Done\n",
            "Accuracy:  0.8588235294117647\n",
            "Recall:  0.9302325581395349\n",
            "85\n",
            "Confusion Matrix\n",
            "[[33  9]\n",
            " [ 3 40]]\n",
            "Epoch Done\n",
            "Accuracy:  0.8588235294117647\n",
            "Recall:  0.9302325581395349\n",
            "85\n",
            "Confusion Matrix\n",
            "[[33  9]\n",
            " [ 3 40]]\n",
            "Epoch Done\n",
            "Accuracy:  0.8588235294117647\n",
            "Recall:  0.9302325581395349\n",
            "85\n",
            "Confusion Matrix\n",
            "[[33  9]\n",
            " [ 3 40]]\n",
            "Epoch Done\n",
            "Accuracy:  0.8588235294117647\n",
            "Recall:  0.9302325581395349\n",
            "85\n",
            "Confusion Matrix\n",
            "[[33  9]\n",
            " [ 3 40]]\n",
            "Epoch Done\n",
            "Accuracy:  0.8470588235294118\n",
            "Recall:  0.9069767441860465\n",
            "85\n",
            "Confusion Matrix\n",
            "[[33  9]\n",
            " [ 4 39]]\n",
            "Epoch Done\n",
            "Accuracy:  0.8588235294117647\n",
            "Recall:  0.9302325581395349\n",
            "85\n",
            "Confusion Matrix\n",
            "[[33  9]\n",
            " [ 3 40]]\n",
            "Epoch Done\n",
            "Accuracy:  0.8470588235294118\n",
            "Recall:  0.9069767441860465\n",
            "85\n",
            "Confusion Matrix\n",
            "[[33  9]\n",
            " [ 4 39]]\n",
            "Epoch Done\n",
            "Accuracy:  0.8352941176470589\n",
            "Recall:  0.8837209302325582\n",
            "85\n",
            "Confusion Matrix\n",
            "[[33  9]\n",
            " [ 5 38]]\n",
            "Epoch Done\n",
            "Accuracy:  0.8470588235294118\n",
            "Recall:  0.9069767441860465\n",
            "85\n",
            "Confusion Matrix\n",
            "[[33  9]\n",
            " [ 4 39]]\n",
            "Epoch Done\n",
            "Accuracy:  0.8705882352941177\n",
            "Recall:  0.9069767441860465\n",
            "85\n",
            "Confusion Matrix\n",
            "[[35  7]\n",
            " [ 4 39]]\n",
            "Epoch Done\n",
            "Accuracy:  0.8705882352941177\n",
            "Recall:  0.9302325581395349\n",
            "85\n",
            "Confusion Matrix\n",
            "[[34  8]\n",
            " [ 3 40]]\n",
            "Epoch Done\n",
            "Accuracy:  0.8705882352941177\n",
            "Recall:  0.9069767441860465\n",
            "85\n",
            "Confusion Matrix\n",
            "[[35  7]\n",
            " [ 4 39]]\n",
            "Epoch Done\n",
            "Accuracy:  0.8588235294117647\n",
            "Recall:  0.9069767441860465\n",
            "85\n",
            "Confusion Matrix\n",
            "[[34  8]\n",
            " [ 4 39]]\n",
            "Epoch Done\n",
            "Accuracy:  0.8588235294117647\n",
            "Recall:  0.9069767441860465\n",
            "85\n",
            "Confusion Matrix\n",
            "[[34  8]\n",
            " [ 4 39]]\n",
            "Epoch Done\n",
            "Accuracy:  0.8705882352941177\n",
            "Recall:  0.9302325581395349\n",
            "85\n",
            "Confusion Matrix\n",
            "[[34  8]\n",
            " [ 3 40]]\n",
            "Epoch Done\n",
            "Accuracy:  0.8705882352941177\n",
            "Recall:  0.9302325581395349\n",
            "85\n",
            "Confusion Matrix\n",
            "[[34  8]\n",
            " [ 3 40]]\n",
            "Epoch Done\n",
            "Accuracy:  0.8588235294117647\n",
            "Recall:  0.9069767441860465\n",
            "85\n",
            "Confusion Matrix\n",
            "[[34  8]\n",
            " [ 4 39]]\n",
            "Epoch Done\n",
            "Accuracy:  0.8470588235294118\n",
            "Recall:  0.9069767441860465\n",
            "85\n",
            "Confusion Matrix\n",
            "[[33  9]\n",
            " [ 4 39]]\n",
            "Epoch Done\n",
            "Accuracy:  0.7529411764705882\n",
            "Recall:  0.6511627906976745\n",
            "85\n",
            "Confusion Matrix\n",
            "[[36  6]\n",
            " [15 28]]\n",
            "Epoch Done\n",
            "Accuracy:  0.7764705882352941\n",
            "Recall:  0.6744186046511628\n",
            "85\n",
            "Confusion Matrix\n",
            "[[37  5]\n",
            " [14 29]]\n",
            "Epoch Done\n",
            "Accuracy:  0.8\n",
            "Recall:  0.7674418604651163\n",
            "85\n",
            "Confusion Matrix\n",
            "[[35  7]\n",
            " [10 33]]\n",
            "Epoch Done\n",
            "Accuracy:  0.788235294117647\n",
            "Recall:  0.6511627906976745\n",
            "85\n",
            "Confusion Matrix\n",
            "[[39  3]\n",
            " [15 28]]\n",
            "Epoch Done\n",
            "Accuracy:  0.7764705882352941\n",
            "Recall:  0.6511627906976745\n",
            "85\n",
            "Confusion Matrix\n",
            "[[38  4]\n",
            " [15 28]]\n",
            "Epoch Done\n",
            "Accuracy:  0.8\n",
            "Recall:  0.6744186046511628\n",
            "85\n",
            "Confusion Matrix\n",
            "[[39  3]\n",
            " [14 29]]\n",
            "Epoch Done\n",
            "Accuracy:  0.8117647058823529\n",
            "Recall:  0.6976744186046512\n",
            "85\n",
            "Confusion Matrix\n",
            "[[39  3]\n",
            " [13 30]]\n",
            "Epoch Done\n",
            "Accuracy:  0.8117647058823529\n",
            "Recall:  0.6976744186046512\n",
            "85\n",
            "Confusion Matrix\n",
            "[[39  3]\n",
            " [13 30]]\n",
            "Epoch Done\n",
            "Accuracy:  0.7647058823529411\n",
            "Recall:  0.627906976744186\n",
            "85\n",
            "Confusion Matrix\n",
            "[[38  4]\n",
            " [16 27]]\n",
            "Epoch Done\n",
            "Accuracy:  0.788235294117647\n",
            "Recall:  0.6511627906976745\n",
            "85\n",
            "Confusion Matrix\n",
            "[[39  3]\n",
            " [15 28]]\n",
            "Epoch Done\n",
            "Accuracy:  0.788235294117647\n",
            "Recall:  0.6511627906976745\n",
            "85\n",
            "Confusion Matrix\n",
            "[[39  3]\n",
            " [15 28]]\n",
            "Epoch Done\n",
            "Accuracy:  0.788235294117647\n",
            "Recall:  0.6511627906976745\n",
            "85\n",
            "Confusion Matrix\n",
            "[[39  3]\n",
            " [15 28]]\n",
            "Epoch Done\n",
            "Accuracy:  0.788235294117647\n",
            "Recall:  0.6511627906976745\n",
            "85\n",
            "Confusion Matrix\n",
            "[[39  3]\n",
            " [15 28]]\n",
            "Epoch Done\n",
            "Accuracy:  0.788235294117647\n",
            "Recall:  0.6511627906976745\n",
            "85\n",
            "Confusion Matrix\n",
            "[[39  3]\n",
            " [15 28]]\n"
          ]
        }
      ]
    },
    {
      "cell_type": "code",
      "source": [
        "labels = []\n",
        "preds = []\n",
        "loss = []\n",
        "model.eval()\n",
        "\n",
        "for seq, label in valid_dataloader:\n",
        "\n",
        "    seq = seq.reshape((-1, 6))\n",
        "    tag_scores = model(seq.to(torch.float))\n",
        "    preds.append(tag_scores.data)\n",
        "    labels.append(label.to(torch.float).data)\n",
        "\n",
        "print(\"Epoch Done\")\n",
        "get_statistics(labels, preds)"
      ],
      "metadata": {
        "id": "PgRfl9f4AnAz",
        "colab": {
          "base_uri": "https://localhost:8080/"
        },
        "outputId": "62c4c4c0-06a0-4128-d28a-cb5045fad4a2"
      },
      "execution_count": null,
      "outputs": [
        {
          "output_type": "stream",
          "name": "stdout",
          "text": [
            "Epoch Done\n",
            "Accuracy:  0.6363636363636364\n",
            "Recall:  0.375\n",
            "33\n",
            "Confusion Matrix\n",
            "[[15  2]\n",
            " [10  6]]\n"
          ]
        }
      ]
    },
    {
      "cell_type": "code",
      "source": [
        "# torch.save(model.state_dict(), 'model_weights.pt')"
      ],
      "metadata": {
        "id": "MIG5VyYmGO47"
      },
      "execution_count": null,
      "outputs": []
    },
    {
      "cell_type": "code",
      "source": [
        "# from torch import nn\n",
        "# import torch.nn.functional as F\n",
        "\n",
        "# class FallDetector(nn.Module):\n",
        "#     def __init__(self):\n",
        "#         super(FallDetector, self).__init__()\n",
        "#         self.lstm = nn.LSTM(6, 5, num_layers=1)\n",
        "#         self.hidden2tag = nn.Linear(5, 1)\n",
        "\n",
        "#     def forward(self, seq):\n",
        "#         output, (h_n, c_n) = self.lstm(seq.view(len(seq), 1, -1))\n",
        "#         tag_space = self.hidden2tag(c_n.view(1, -1))\n",
        "#         # print(tag_space.data)\n",
        "#         tag_scores = torch.sigmoid(tag_space)\n",
        "#         return tag_scores.view(-1)\n",
        "\n",
        "# model = FallDetector()\n",
        "# model.load_state_dict(torch.load('model_weights.pt'))\n",
        "# model.eval()"
      ],
      "metadata": {
        "id": "GY_bnvaZGgNM"
      },
      "execution_count": null,
      "outputs": []
    },
    {
      "cell_type": "code",
      "source": [],
      "metadata": {
        "id": "zjsAAvzrInm3"
      },
      "execution_count": null,
      "outputs": []
    },
    {
      "cell_type": "code",
      "source": [],
      "metadata": {
        "id": "AiQbXIaaZ-GI"
      },
      "execution_count": null,
      "outputs": []
    }
  ],
  "metadata": {
    "colab": {
      "provenance": []
    },
    "kernelspec": {
      "display_name": "Python 3",
      "name": "python3"
    },
    "language_info": {
      "name": "python"
    }
  },
  "nbformat": 4,
  "nbformat_minor": 0
}